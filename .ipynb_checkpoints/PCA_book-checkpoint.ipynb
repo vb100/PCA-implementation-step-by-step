{
 "cells": [
  {
   "cell_type": "markdown",
   "metadata": {},
   "source": [
    "<h1>PCA Exploration with Real Data</h1>\n",
    "<h2>Part 1</h2>\n",
    "<p>Unsupervised linear transformation technique that is widely used across different fields, most prominently for feature extraction and dimensionality reduction. Other popular applications of PCA include exploratory data analyses and de-noising of signals in stock market trading, and the analysis of genome data and gene expression levels in the field of bioinformatics.</p></br>\n",
    "<p><img src=\"./img/01.jpg\" alt=\"PCA\" height=\"259\" width=\"228\">\n",
    "PCA is by far the most popular dimensionality reduction algorithm. First it identifies the hyperplane that lies closest to the data, and the projects the data onto it.</p>"
   ]
  },
  {
   "cell_type": "markdown",
   "metadata": {},
   "source": [
    "<p>here:\n",
    "<ul><code>x1</code>, <code>x2</code> – original features axes.</ul>\n",
    "<ul><code>PC1</code>, <code>PC2</code> – principal components.</ul></p>"
   ]
  },
  {
   "cell_type": "code",
   "execution_count": 1,
   "metadata": {},
   "outputs": [],
   "source": [
    "# Load the data from Internet source\n",
    "import pandas as pd\n",
    "df_wine = pd.read_csv('https://archive.ics.uci.edu/ml/machine-learning-databases/wine/wine.data',\n",
    "                      header=None)"
   ]
  },
  {
   "cell_type": "code",
   "execution_count": 2,
   "metadata": {},
   "outputs": [
    {
     "data": {
      "text/html": [
       "<div>\n",
       "<table border=\"1\" class=\"dataframe\">\n",
       "  <thead>\n",
       "    <tr style=\"text-align: right;\">\n",
       "      <th></th>\n",
       "      <th>0</th>\n",
       "      <th>1</th>\n",
       "      <th>2</th>\n",
       "      <th>3</th>\n",
       "      <th>4</th>\n",
       "      <th>5</th>\n",
       "      <th>6</th>\n",
       "      <th>7</th>\n",
       "      <th>8</th>\n",
       "      <th>9</th>\n",
       "      <th>10</th>\n",
       "      <th>11</th>\n",
       "      <th>12</th>\n",
       "      <th>13</th>\n",
       "    </tr>\n",
       "  </thead>\n",
       "  <tbody>\n",
       "    <tr>\n",
       "      <th>0</th>\n",
       "      <td>1</td>\n",
       "      <td>14.23</td>\n",
       "      <td>1.71</td>\n",
       "      <td>2.43</td>\n",
       "      <td>15.6</td>\n",
       "      <td>127</td>\n",
       "      <td>2.80</td>\n",
       "      <td>3.06</td>\n",
       "      <td>0.28</td>\n",
       "      <td>2.29</td>\n",
       "      <td>5.64</td>\n",
       "      <td>1.04</td>\n",
       "      <td>3.92</td>\n",
       "      <td>1065</td>\n",
       "    </tr>\n",
       "    <tr>\n",
       "      <th>1</th>\n",
       "      <td>1</td>\n",
       "      <td>13.20</td>\n",
       "      <td>1.78</td>\n",
       "      <td>2.14</td>\n",
       "      <td>11.2</td>\n",
       "      <td>100</td>\n",
       "      <td>2.65</td>\n",
       "      <td>2.76</td>\n",
       "      <td>0.26</td>\n",
       "      <td>1.28</td>\n",
       "      <td>4.38</td>\n",
       "      <td>1.05</td>\n",
       "      <td>3.40</td>\n",
       "      <td>1050</td>\n",
       "    </tr>\n",
       "    <tr>\n",
       "      <th>2</th>\n",
       "      <td>1</td>\n",
       "      <td>13.16</td>\n",
       "      <td>2.36</td>\n",
       "      <td>2.67</td>\n",
       "      <td>18.6</td>\n",
       "      <td>101</td>\n",
       "      <td>2.80</td>\n",
       "      <td>3.24</td>\n",
       "      <td>0.30</td>\n",
       "      <td>2.81</td>\n",
       "      <td>5.68</td>\n",
       "      <td>1.03</td>\n",
       "      <td>3.17</td>\n",
       "      <td>1185</td>\n",
       "    </tr>\n",
       "    <tr>\n",
       "      <th>3</th>\n",
       "      <td>1</td>\n",
       "      <td>14.37</td>\n",
       "      <td>1.95</td>\n",
       "      <td>2.50</td>\n",
       "      <td>16.8</td>\n",
       "      <td>113</td>\n",
       "      <td>3.85</td>\n",
       "      <td>3.49</td>\n",
       "      <td>0.24</td>\n",
       "      <td>2.18</td>\n",
       "      <td>7.80</td>\n",
       "      <td>0.86</td>\n",
       "      <td>3.45</td>\n",
       "      <td>1480</td>\n",
       "    </tr>\n",
       "    <tr>\n",
       "      <th>4</th>\n",
       "      <td>1</td>\n",
       "      <td>13.24</td>\n",
       "      <td>2.59</td>\n",
       "      <td>2.87</td>\n",
       "      <td>21.0</td>\n",
       "      <td>118</td>\n",
       "      <td>2.80</td>\n",
       "      <td>2.69</td>\n",
       "      <td>0.39</td>\n",
       "      <td>1.82</td>\n",
       "      <td>4.32</td>\n",
       "      <td>1.04</td>\n",
       "      <td>2.93</td>\n",
       "      <td>735</td>\n",
       "    </tr>\n",
       "  </tbody>\n",
       "</table>\n",
       "</div>"
      ],
      "text/plain": [
       "   0      1     2     3     4    5     6     7     8     9     10    11    12  \\\n",
       "0   1  14.23  1.71  2.43  15.6  127  2.80  3.06  0.28  2.29  5.64  1.04  3.92   \n",
       "1   1  13.20  1.78  2.14  11.2  100  2.65  2.76  0.26  1.28  4.38  1.05  3.40   \n",
       "2   1  13.16  2.36  2.67  18.6  101  2.80  3.24  0.30  2.81  5.68  1.03  3.17   \n",
       "3   1  14.37  1.95  2.50  16.8  113  3.85  3.49  0.24  2.18  7.80  0.86  3.45   \n",
       "4   1  13.24  2.59  2.87  21.0  118  2.80  2.69  0.39  1.82  4.32  1.04  2.93   \n",
       "\n",
       "     13  \n",
       "0  1065  \n",
       "1  1050  \n",
       "2  1185  \n",
       "3  1480  \n",
       "4   735  "
      ]
     },
     "execution_count": 2,
     "metadata": {},
     "output_type": "execute_result"
    }
   ],
   "source": [
    "# Show the part of data\n",
    "df_wine.head()"
   ]
  },
  {
   "cell_type": "code",
   "execution_count": 3,
   "metadata": {},
   "outputs": [
    {
     "name": "stdout",
     "output_type": "stream",
     "text": [
      "The dataset contains 178 rows (observations) and 14 features.\n"
     ]
    }
   ],
   "source": [
    "print('The dataset contains {} rows (observations) and {} features.'\\\n",
    "      .format(df_wine.shape[0],\n",
    "              df_wine.shape[1]))"
   ]
  },
  {
   "cell_type": "markdown",
   "metadata": {},
   "source": [
    "<h2>Plan of attack</h2>\n",
    "<ul><b>#1</b> Standardize the <b>d</b>-dimensional dataset.</ul>\n",
    "<ul><b>#2</b> Construct the covariance matrix.</ul>\n",
    "<ul><b>#3</b> Decompose the covariance matrix into its eigenvectors and eigenvalues.</ul>\n",
    "<ul><b>#4</b> Sort the eigenvalues by decreasing order to rank the corresponding eigenvectors.</ul>\n",
    "<ul><b>#5</b> Select <b>k</b> eigenvectors which correspond to the <b>k</b> largest eigenvalues, where <b>k</b> is the dimensionality of the new feature subspace (<code>k ≤ d</code>)</ul>\n",
    "<ul><b>#6</b> Construct a projection matrix <b>W</b> from the \"top\" <b>k</b> eigenvectors.</ul>\n",
    "<ul><b>#7</b> Transform the <b>d</b>-dimensional input dataset <b>X</b> using the projection matrix <b>W</b> to obtain the new <b>k</b>-dimensional feature subspace.</ul>"
   ]
  },
  {
   "cell_type": "markdown",
   "metadata": {},
   "source": [
    "<h3>Extracting the principal components step by step</h3>\n",
    "<b>#1 <u>Standardizing the data</u></b>"
   ]
  },
  {
   "cell_type": "code",
   "execution_count": 4,
   "metadata": {},
   "outputs": [
    {
     "data": {
      "text/plain": [
       "'\\nwe will process the Wine data into separate training \\nand test sets—using 70 percent and 30 percent of the\\ndata, respectively—and standardize it to unit variance:\\n'"
      ]
     },
     "execution_count": 4,
     "metadata": {},
     "output_type": "execute_result"
    }
   ],
   "source": [
    "'''\n",
    "we will process the Wine data into separate training \n",
    "and test sets—using 70 percent and 30 percent of the\n",
    "data, respectively—and standardize it to unit variance:\n",
    "'''"
   ]
  },
  {
   "cell_type": "code",
   "execution_count": 5,
   "metadata": {},
   "outputs": [],
   "source": [
    "from sklearn.model_selection import train_test_split\n",
    "X, y = df_wine.iloc[:, 1:].values, df_wine.iloc[:, 0].values\n",
    "X_train, X_test, y_train, y_test = train_test_split(X, y, test_size=0.3, \n",
    "                                                    stratify=y,\n",
    "                                                    random_state=0)\n",
    "# Standardize the features (Feature Scaling)\n",
    "from sklearn.preprocessing import StandardScaler\n",
    "sc = StandardScaler()\n",
    "X_train_std = sc.fit_transform(X_train)\n",
    "X_test_std = sc.transform(X_test)"
   ]
  },
  {
   "cell_type": "markdown",
   "metadata": {},
   "source": [
    "<b>#2 <u>Construct the covariance matrix (<code>d × d</code>)</u></b>\n",
    "<p>(<i>Stores the pairwise covariances between the different features</i>.)\n",
    "For example, the covariance matrix of 3 features can be written as follows:\n",
    "    <img src=\"./img/02.jpg\" alt=\"Covariance Matrix\"></p>\n",
    "<b>#3 <u>Obtaining the eigenvalues and eigenvectors of the covariance matrix</u></b>\n",
    "<p><code>d</code> – the number dimensions in the dataset.</p>\n",
    "    <p><i>The eigenvectors of the covariance matrix represent the principal components (the directions of maximum variance), whereas the corresponding eigenvalues will define their magnitude.In the case of the Wine dataset, we would obtain 13 eigenvectors and eigenvalues from the 13 x 13-dimensional covariance matrix.</i></p>"
   ]
  },
  {
   "cell_type": "code",
   "execution_count": 6,
   "metadata": {},
   "outputs": [
    {
     "name": "stdout",
     "output_type": "stream",
     "text": [
      "\n",
      "Eigenvalues \n",
      "[ 4.84274532  2.41602459  1.54845825  0.96120438  0.84166161  0.6620634\n",
      "  0.51828472  0.34650377  0.3131368   0.10754642  0.21357215  0.15362835\n",
      "  0.1808613 ]\n"
     ]
    }
   ],
   "source": [
    "import numpy as np\n",
    "\n",
    "#2 Construct the covariance matrix\n",
    "cov_mat = np.cov(X_train_std.T)\n",
    "\n",
    "#3 Obtaining the eigenvalues and eigenvectors of the covariance matrix\n",
    "eigen_vals, eigen_vecs = np.linalg.eig(cov_mat)\n",
    "print('\\nEigenvalues \\n%s' % eigen_vals)\n",
    "\n",
    "'''\n",
    "np.linalg.eig(a):\n",
    "Compute the eigenvalues and right eigenvectors of a square array.\n",
    "Args:\n",
    "    a – matrices for which the eigenvalues and right eigenvectors\n",
    "        will be computed\n",
    "        \n",
    "Real matrix possessing complex e-values and e-vectors; note that \n",
    "the e-values are complex conjugates of each other.\n",
    "\n",
    ">>> from numpy import linalg as LA\n",
    ">>> w, v = LA.eig(np.array([[1, -1], [1, 1]]))\n",
    ">>> w; v\n",
    "array([ 1. + 1.j,  1. - 1.j])\n",
    "array([[ 0.70710678+0.j        ,  0.70710678+0.j        ],\n",
    "       [ 0.00000000-0.70710678j,  0.00000000+0.70710678j]])\n",
    "\n",
    "'''"
   ]
  },
  {
   "cell_type": "markdown",
   "metadata": {},
   "source": [
    "<b>Explanations for #2</b>\n",
    "<p>Using the <code>numpy.cov</code> function, we computed the covariance matrix of the standardized training dataset. Using the <code>linalg.eig</code> function, we performed the eigendecomposition, which yielded a vector (<code>eigen_vals</code>) consisting of 13 eigenvalues and the corresponding eigenvectors stored as columns in a 13 x 13-dimensional matrix (<code>eigen_vecs</code>).</p></br>\n",
    "<b>Explanation for #3</b>\n",
    "<p>The <code>numpy.linalg.eig</code> function was designed to operate on both symmetric and non-symmetric square matrices. However, you may find that it returns complex eigenvalues in certain cases.\n",
    "A related function, <code>numpy.linalg.eigh</code>, has been implemented to decompose Hermetian matrices, which is a numerically more stable approach to work with symmetric matrices such as the covariance matrix; <code>numpy.linalg.eigh</code> always returns real eigenvalues.</p>"
   ]
  },
  {
   "cell_type": "markdown",
   "metadata": {},
   "source": [
    "<b>#4 <u>Sorting the eigenvalues by decreasing order to rank the eigenvectors.</u></b>\n",
    "(Obtain the eigenpairs of the covariance matrix.)"
   ]
  },
  {
   "cell_type": "markdown",
   "metadata": {},
   "source": [
    "Using the NumPy <code>cumsum</code> function, we can then calculate the cumulative sum of explained variances, which we will then plot via Matplotlib's <code>step</code> function:\n",
    "<p><b>PCA</b> identifies the axis that accounts for the largest amount of variance in the training set.</p>"
   ]
  },
  {
   "cell_type": "code",
   "execution_count": 7,
   "metadata": {},
   "outputs": [
    {
     "data": {
      "image/png": "[encoded data removed]",
      "text/plain": [
       "<matplotlib.figure.Figure at 0x11706b50>"
      ]
     },
     "metadata": {},
     "output_type": "display_data"
    }
   ],
   "source": [
    "tot = sum(eigen_vals)\n",
    "var_exp = [(i / tot) for i in sorted(eigen_vals, reverse=True)]\n",
    "cum_var_exp = np.cumsum(var_exp)\n",
    "\n",
    "import matplotlib.pyplot as plt\n",
    "%matplotlib inline\n",
    "\n",
    "# Set plot size\n",
    "from pylab import rcParams\n",
    "rcParams['figure.figsize'] = 14, 5\n",
    "\n",
    "plt.bar(range(1,14), var_exp, alpha=0.5, align='center',\n",
    "        label='Individual explained variance')\n",
    "plt.step(range(1,14), cum_var_exp, where='mid',\n",
    "         label='Cumulative explained variance')\n",
    "plt.ylabel('Explained variance ratio', fontsize=14, family='Arial')\n",
    "plt.xlabel('Principal component index', fontsize=14, family='Arial')\n",
    "plt.grid(which='major', alpha=0.5)\n",
    "plt.xlim((0, df_wine.shape[1]))\n",
    "\n",
    "# Draw horizontal line correspondig on selected variation\n",
    "plt.axhline(y=var_exp[0] + var_exp[1], color='red', linewidth=3,\n",
    "            linestyle='--',\n",
    "            label='Total variance for selected PCAs')\n",
    "\n",
    "plt.legend(loc='best', shadow=True, fontsize=12)\n",
    "plt.show()"
   ]
  },
  {
   "cell_type": "code",
   "execution_count": 8,
   "metadata": {},
   "outputs": [
    {
     "name": "stdout",
     "output_type": "stream",
     "text": [
      "PC1 (0.37) and PC2 (0.18) explains 55.39% of dataset.\n"
     ]
    }
   ],
   "source": [
    "print('PC1 ({}) and PC2 ({}) explains {}% of dataset.'.format(round(var_exp[0],2),\n",
    "                                                              round(var_exp[1],2),\n",
    "                                                              round((var_exp[0] + var_exp[1])*100,2)))"
   ]
  },
  {
   "cell_type": "markdown",
   "metadata": {},
   "source": [
    "<i><b>Explanation: </b>The resulting plot indicates that the first principal component alone accounts for approximately <u>40%</u> of the variance. Also, we can see that the first two principal components combined explain almost <u>60%</u> of the variance in the dataset:</i>"
   ]
  },
  {
   "cell_type": "markdown",
   "metadata": {},
   "source": [
    "<p><i>Via random forests, we should remind that PCA is an unsupervised method, which means that information about the class labels is ignored. Whereas a random forest uses the class membership information to compute the node impurities, variance measures the spread of values along a feature axis.</i></p>\n",
    "<p>It seems reasonable to select the axis that preserves the maximum amount of variance, as it will most likely to lose less information than the other projections.</p>"
   ]
  },
  {
   "cell_type": "markdown",
   "metadata": {},
   "source": [
    "<h2>Feature transformation</h2>"
   ]
  },
  {
   "cell_type": "markdown",
   "metadata": {},
   "source": [
    "<b>#5 <u>Select <code>k</code> eigenvectors, which correspond to the <code>k</code> largest eigenvalues</u></b>, where <code>k</code> is the dimensionality of the new feature subspace <code>k ≤ d</code>."
   ]
  },
  {
   "cell_type": "markdown",
   "metadata": {},
   "source": [
    "<i>We will sort the eigenpairs by descending order of the eigenvalues, construct a projection matrix from the selected eigenvectors, and use the projection matrix to transform the data onto the lower-dimensional subspace.</i></br>\n",
    "<i>We start by sorting the eigenpairs by decreasing order of the eigenvalues:</i>"
   ]
  },
  {
   "cell_type": "code",
   "execution_count": 22,
   "metadata": {},
   "outputs": [],
   "source": [
    "# Make a list of (eigenvalue, eigenvector) tuples\n",
    "eigen_pairs = [(np.abs(eigen_vals[i]), eigen_vecs[:, i]) for i in range(len(eigen_vals))]\n",
    "\n",
    "# Sort the (eigenvalue, eigenvector) tuples from high to low\n",
    "eigen_pairs.sort(key=lambda k: k[0], reverse=True)"
   ]
  },
  {
   "cell_type": "markdown",
   "metadata": {},
   "source": [
    "<i>Next, we collect the two eigenvectors that correspond to the two largest eigenvalues, to capture <u>55.39%</u> of the variance in this dataset. Note that we only chose <b>2</b> eigenvectors for the purpose of illustration, since we are going to plot the data via a 2-dimensional scatter plot later in this subsection. In practice, the number of principal components has to be determined by a trade-off between computational efficiency and the performance of the classifier:</i>"
   ]
  },
  {
   "cell_type": "markdown",
   "metadata": {},
   "source": [
    "<b>#6 <u>Construct a projection matrix <code>W</code> from the \"top\" eigenvectors</u></b>."
   ]
  },
  {
   "cell_type": "code",
   "execution_count": 16,
   "metadata": {},
   "outputs": [
    {
     "name": "stdout",
     "output_type": "stream",
     "text": [
      "Matrix W:\n",
      "[[-0.13724218 -0.50303478]\n",
      " [ 0.24724326 -0.16487119]\n",
      " [-0.02545159 -0.24456476]\n",
      " [ 0.20694508  0.11352904]\n",
      " [-0.15436582 -0.28974518]\n",
      " [-0.39376952 -0.05080104]\n",
      " [-0.41735106  0.02287338]\n",
      " [ 0.30572896 -0.09048885]\n",
      " [-0.30668347 -0.00835233]\n",
      " [ 0.07554066 -0.54977581]\n",
      " [-0.32613263  0.20716433]\n",
      " [-0.36861022  0.24902536]\n",
      " [-0.29669651 -0.38022942]]\n"
     ]
    }
   ],
   "source": [
    "w = np.hstack((eigen_pairs[0][1][:, np.newaxis],\n",
    "               eigen_pairs[1][1][:, np.newaxis]))\n",
    "\n",
    "print('Matrix W:\\n{}'.format(w))"
   ]
  },
  {
   "cell_type": "markdown",
   "metadata": {},
   "source": [
    "<i>By executing the preceding code, we have created a <code>13 x 2</code>-dimensional projection matrix <code>W</code> from the top two eigenvectors.</i>"
   ]
  },
  {
   "cell_type": "markdown",
   "metadata": {},
   "source": [
    "<b>#7 <u>Transform the <code>d</code>-dimensional input dataset <code>X</code> using the projection matrix <code>W</code> to obtain the new <code>k</code>-dimensional feature subspace</u></b>."
   ]
  },
  {
   "cell_type": "markdown",
   "metadata": {},
   "source": [
    "<i>Using the projection matrix, we can now transform a sample <code>x</code> (represented as a <code>1 x 13</code>-dimensional row vector) onto the PCA subspace (the principal components one and two)</i> obtaining x(<i>dot</i>), now a 2-dimensional sample vector consisting of 2 new features:\n",
    "<img src=\"./img/03.jpg\" alt=\"PCA Subspace\" height=\"26\" width=\"114\">"
   ]
  },
  {
   "cell_type": "code",
   "execution_count": 11,
   "metadata": {},
   "outputs": [
    {
     "data": {
      "text/plain": [
       "array([ 2.38299011, -0.45458499])"
      ]
     },
     "execution_count": 11,
     "metadata": {},
     "output_type": "execute_result"
    }
   ],
   "source": [
    "X_train_std[0].dot(w)"
   ]
  },
  {
   "cell_type": "markdown",
   "metadata": {},
   "source": [
    "<i>Similarly, we can transform the entire <code>124 x 13</code>-dimensional training dataset onto the two principal components by calculating the matrix dot product:</i>\n",
    "<img src=\"./img/04.jpg\" alt=\"PCA Subspace\" height=\"25\" width=\"128\">"
   ]
  },
  {
   "cell_type": "code",
   "execution_count": 12,
   "metadata": {},
   "outputs": [],
   "source": [
    "X_train_pca = X_train_std.dot(w)"
   ]
  },
  {
   "cell_type": "markdown",
   "metadata": {},
   "source": [
    "<i>Lastly, let us visualize the transformed Wine training set, now stored as an <code>124 x 2</code>-dimensional matrix, in a two-dimensional scatterplot:</i>"
   ]
  },
  {
   "cell_type": "code",
   "execution_count": 17,
   "metadata": {},
   "outputs": [
    {
     "data": {
      "image/png": "[encoded data removed]",
      "text/plain": [
       "<matplotlib.figure.Figure at 0x117b7bb0>"
      ]
     },
     "metadata": {},
     "output_type": "display_data"
    }
   ],
   "source": [
    "# Set plot size\n",
    "rcParams['figure.figsize'] = 10, 6\n",
    "\n",
    "colors = ['r', 'b', 'g']\n",
    "markers = ['s', 'x', 'o']\n",
    "for l, c, m in zip(np.unique(y_train), colors, markers):\n",
    "    plt.scatter(X_train_pca[y_train==l, 0], \n",
    "                X_train_pca[y_train==l, 1], \n",
    "                c=c, label=l, marker=m) \n",
    "plt.xlabel('PC 1', family='Arial', fontsize=14)\n",
    "plt.ylabel('PC 2', family='Arial', fontsize=14)\n",
    "plt.legend(loc='upper right', shadow=True, fontsize=14)\n",
    "plt.show()"
   ]
  },
  {
   "cell_type": "markdown",
   "metadata": {},
   "source": [
    "<i><b>Note</b>: As we can see in the resulting plot, the data is more spread along the <b>x</b>-axis—the first principal component—than the second principal component (<b>y</b>-axis), which is consistent with the explained variance ratio plot that we created in the previous subsection. However, we can intuitively see that a linear classifier will likely be able to separate the classes well:</i>"
   ]
  },
  {
   "cell_type": "markdown",
   "metadata": {},
   "source": [
    "<h2>Part 2: PCA in scikit-learn</h2>"
   ]
  },
  {
   "cell_type": "markdown",
   "metadata": {},
   "source": [
    "<p>The <code>PCA</code> class is another one of <i>scikit-learn</i>'s transformer classes, where we first fit the model using the training data before we transform both the training data and the test dataset using the same model parameters. Now, let's use the <code>PCA</code> class from <i>scikit-learn</i> on the <i>Wine training</i> dataset, classify the transformed samples via <b>logistic regression</b>, and visualize the decision regions via the <code>plot_decision_regions</code> function.</p>"
   ]
  },
  {
   "cell_type": "code",
   "execution_count": 14,
   "metadata": {},
   "outputs": [
    {
     "data": {
      "image/png": "[encoded data removed]",
      "text/plain": [
       "<matplotlib.figure.Figure at 0x11ebab30>"
      ]
     },
     "metadata": {},
     "output_type": "display_data"
    }
   ],
   "source": [
    "from matplotlib.colors import ListedColormap\n",
    "\n",
    "#------------------------------ \n",
    "def plot_decision_regions(X, y, classifier, resolution=0.02):\n",
    "\n",
    "    # setup marker generator and color map\n",
    "    markers = ('s', 'x', 'o', '^', 'v')\n",
    "    colors = ('red', 'blue', 'lightgreen', 'gray', 'cyan')\n",
    "    cmap = ListedColormap(colors[:len(np.unique(y))])\n",
    "\n",
    "    # plot the decision surface\n",
    "    x1_min, x1_max = X[:, 0].min() - 1, X[:, 0].max() + 1\n",
    "    x2_min, x2_max = X[:, 1].min() - 1, X[:, 1].max() + 1\n",
    "    xx1, xx2 = np.meshgrid(np.arange(x1_min, x1_max, resolution),\n",
    "                           np.arange(x2_min, x2_max, resolution))\n",
    "    Z = classifier.predict(np.array([xx1.ravel(), xx2.ravel()]).T)\n",
    "    Z = Z.reshape(xx1.shape)\n",
    "    plt.contourf(xx1, xx2, Z, alpha=0.4, cmap=cmap)\n",
    "    plt.xlim(xx1.min(), xx1.max())\n",
    "    plt.ylim(xx2.min(), xx2.max())\n",
    "\n",
    "    # plot class samples\n",
    "    for idx, cl in enumerate(np.unique(y)):\n",
    "        plt.scatter(x=X[y == cl, 0], \n",
    "                    y=X[y == cl, 1],\n",
    "                    alpha=0.6, \n",
    "                    c=cmap(idx),\n",
    "                    edgecolor='black',\n",
    "                    marker=markers[idx], \n",
    "                    label=cl)\n",
    "#------------------------------ \n",
    "\n",
    "# Import scikit-learn module for Machine Learning part\n",
    "from sklearn.linear_model import LogisticRegression\n",
    "from sklearn.decomposition import PCA\n",
    "\n",
    "# Construct PCA plot with Matplotlib and Scikit-Learn\n",
    "pca = PCA(n_components=2)\n",
    "lr = LogisticRegression()\n",
    "\n",
    "X_train_pca = pca.fit_transform(X_train_std)\n",
    "X_test_pca = pca.transform(X_test_std)\n",
    "\n",
    "# Fit the Training set to the Logistic Regression Classifier\n",
    "lr.fit(X_train_pca, y_train)\n",
    "\n",
    "#----------------------\n",
    "# Call the Function Above\n",
    "plot_decision_regions(X_train_pca, y_train, classifier=lr)\n",
    "#----------------------\n",
    "\n",
    "plt.xlabel('PC 1', fontsize=14, family='Arial')\n",
    "plt.ylabel('PC 2', fontsize=14, family='Arial')\n",
    "\n",
    "plt.legend(loc='lower left', fontsize=14, shadow=True)\n",
    "\n",
    "plt.grid(which='major', color='black', alpha=0.5, linestyle='--')\n",
    "\n",
    "plt.show()"
   ]
  },
  {
   "cell_type": "markdown",
   "metadata": {},
   "source": [
    "<p>PCA assumes that the dataset is centered around the origin. <i>scikit-learn</i> <code>PCA</code>  classes take care of centering the data.</p>\n",
    "<p>When we compare PCA projections via <i>scikit-learn</i> with our own PCA implementation, it can happen that the resulting plots are mirror images of each other. Note that this is not due to an error in either of those two implementations, but the reason for this difference is that, depending on the eigensolver, eigenvectors can have either <u>negative or positive signs</u>. Not that it matters, but we could simply revert the mirror image by multiplying the data by <code>-1</code> if we wanted to; note that eigenvectors are typically scaled to unit length <code>1</code>. For the sake of completeness, let's plot the decision regions of the logistic regression on the transformed test dataset to see if it can separate the classes well:</p>"
   ]
  },
  {
   "cell_type": "code",
   "execution_count": 19,
   "metadata": {},
   "outputs": [
    {
     "data": {
      "image/png": "[encoded data removed]",
      "text/plain": [
       "<matplotlib.figure.Figure at 0x117205b0>"
      ]
     },
     "metadata": {},
     "output_type": "display_data"
    }
   ],
   "source": [
    "plot_decision_regions(X_test_pca, y_test, classifier=lr)\n",
    "plt.xlabel('PC1', fontsize=14, family='Arial')\n",
    "plt.ylabel('PC2', fontsize=14, family='Arial')\n",
    "plt.legend(loc='lower left', shadow=True, fontsize=14)\n",
    "plt.grid(which='major', color='black', alpha=0.5, linestyle='--')\n",
    "plt.show()"
   ]
  },
  {
   "cell_type": "markdown",
   "metadata": {},
   "source": [
    "<p>If we are interested in the explained variance ratios of the different principal components, we can simply initialize the <code>PCA</code> class with the <code>n_components</code> parameter set to <code>None</code>, so all principal components are kept and the explained variance ratio can then be accessed via the <code>explained_variance_ratio_</code> attribute:</p>"
   ]
  },
  {
   "cell_type": "code",
   "execution_count": 18,
   "metadata": {},
   "outputs": [
    {
     "data": {
      "text/plain": [
       "array([ 0.36951469,  0.18434927,  0.11815159,  0.07334252,  0.06422108,\n",
       "        0.05051724,  0.03954654,  0.02643918,  0.02389319,  0.01629614,\n",
       "        0.01380021,  0.01172226,  0.00820609])"
      ]
     },
     "execution_count": 18,
     "metadata": {},
     "output_type": "execute_result"
    }
   ],
   "source": [
    "pca=PCA(n_components=None)\n",
    "X_train_pca=pca.fit_transform(X_train_std)\n",
    "pca.explained_variance_ratio_"
   ]
  },
  {
   "cell_type": "markdown",
   "metadata": {},
   "source": [
    "<p>Note that we set <code>n_components=<b>None</b></code> when we initialized the <code>PCA</code> class so that it will return all principal components in a sorted order instead of performing a dimensionality reduction.</p>"
   ]
  },
  {
   "cell_type": "markdown",
   "metadata": {},
   "source": [
    "<h3>Definitions:</h3>\n",
    "<ul><b>(i_th) Principal Component (PC)</b> – The unit vector that defines the <i>i_th</i> axis.</ul>\n",
    "<ul><b>Covariation</b> - covariance is a measure of the joint variability of two random variables. If the greater values of one variable mainly correspond with the greater values of the other variable, and the same holds for the lesser values, the covariance is positive. In the opposite case, when the greater values of one variable mainly correspond to the lesser values of the other, the covariance is negative. The sign of the covariance therefore shows the tendency in the linear relationship between the variables.</ul>\n",
    "<ul><b>Eigenvector</b> or <i>characteristic vector</i> of a linear transformation is a non-zero vector that changes by only a scalar factor when that linear transformation is applied to it.</ul>\n",
    "<h3>References:</h3>\n",
    "<ul>Wikipedia. <i>Eigenvalues and eigenvectors</i>. Onlince Access: https://en.wikipedia.org/wiki/Eigenvalues_and_eigenvectors</ul>\n",
    "<ul>Sebastian Raschka and Vahid Mirjalili. <i>Python Machine Learning. Second Edition - Fully revided</i>Packt. 2017.</ul>\n",
    "<ul>Aurelien Geron. <i>Hands-On Machine Learning with Scikit Learn & Tensorflow</i>. O'Reilly. 2017.</ul>\n",
    "<p>Prepared by <b>Vytautas Bielinskas, 2019</b></p>\n",
    "<p><i>LinedIn profile</i>: https://www.linkedin.com/in/bielinskas/</p>"
   ]
  },
  {
   "cell_type": "code",
   "execution_count": null,
   "metadata": {},
   "outputs": [],
   "source": []
  }
 ],
 "metadata": {
  "kernelspec": {
   "display_name": "Python 3",
   "language": "python",
   "name": "python3"
  },
  "language_info": {
   "codemirror_mode": {
    "name": "ipython",
    "version": 3
   },
   "file_extension": ".py",
   "mimetype": "text/x-python",
   "name": "python",
   "nbconvert_exporter": "python",
   "pygments_lexer": "ipython3",
   "version": "3.5.2"
  }
 },
 "nbformat": 4,
 "nbformat_minor": 2
}
